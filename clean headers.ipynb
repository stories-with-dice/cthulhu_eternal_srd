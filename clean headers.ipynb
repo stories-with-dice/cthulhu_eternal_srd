{
 "cells": [
  {
   "cell_type": "code",
   "execution_count": 1,
   "id": "1e2351b4-4078-406f-9269-f01782448e06",
   "metadata": {},
   "outputs": [],
   "source": [
    "import glob"
   ]
  },
  {
   "cell_type": "code",
   "execution_count": 2,
   "id": "a5f9f4e8-e6b6-42b2-8d63-643d3c51d587",
   "metadata": {},
   "outputs": [],
   "source": [
    "fs = glob.glob(\"content/*.md\")"
   ]
  },
  {
   "cell_type": "code",
   "execution_count": 3,
   "id": "51963ec4-8899-4cf0-b37f-65f57ba81b45",
   "metadata": {},
   "outputs": [],
   "source": [
    "fs = list(fs)"
   ]
  },
  {
   "cell_type": "code",
   "execution_count": 4,
   "id": "aede169b-eff0-4080-9857-577a7dc25021",
   "metadata": {},
   "outputs": [
    {
     "data": {
      "text/plain": [
       "['content/index.md',\n",
       " 'content/Part 1 - Rules of the Game.md',\n",
       " 'content/Part 1 Summary - Creating a Protagonist.md',\n",
       " 'content/Part 10 - Rituals.md',\n",
       " 'content/Part 11 - Creatures and NPCs.md',\n",
       " 'content/Part 12 - Cults.md',\n",
       " 'content/Part 13 - Artifacts.md',\n",
       " 'content/Part 14 - Tomes.md',\n",
       " 'content/Part 2 - Skills.md',\n",
       " 'content/Part 3 - The Game.md',\n",
       " 'content/Part 4 - Combat.md',\n",
       " 'content/Part 5 - Appendix - Equipment per Age.md',\n",
       " 'content/Part 5 - Equipment and Resources.md',\n",
       " 'content/Part 6 - Vehicles.md',\n",
       " 'content/Part 7 - Sanity.md',\n",
       " 'content/Part 8 - Downtime.md',\n",
       " 'content/Part 9 - Game Master Resources.md']"
      ]
     },
     "execution_count": 4,
     "metadata": {},
     "output_type": "execute_result"
    }
   ],
   "source": [
    "fs"
   ]
  },
  {
   "cell_type": "code",
   "execution_count": 5,
   "id": "956462c5-4a0d-4060-a7b4-bcd67952619a",
   "metadata": {},
   "outputs": [],
   "source": [
    "f = open(fs[-2],'r').readlines()"
   ]
  },
  {
   "cell_type": "code",
   "execution_count": 6,
   "id": "c5aa29a8-6b8c-4222-8d0d-96a39ddcc115",
   "metadata": {
    "collapsed": true,
    "jupyter": {
     "outputs_hidden": true
    }
   },
   "outputs": [
    {
     "data": {
      "text/plain": [
       "['\\n',\n",
       " '# Downtime\\n',\n",
       " '\\n',\n",
       " 'Games of _Cthulhu Eternal_ should feature occasional scenes that focus on Protagonists’ everyday lives. These short vignettes should last no more than a few minutes. Typically, they occur between adventures, but the Game Moderator always decides when and whether one is appropriate. These vignettes are a chance to explore the most important things in your Protagonist’s life — and to see whether those things are deteriorating thanks to the Protagonist’s experience of the secret horrors of the world.\\n',\n",
       " '\\n',\n",
       " '## What Changed\\n',\n",
       " '\\n',\n",
       " 'In a downtime vignette, take stock of what changed for your Protagonist in the last adventure.\\n',\n",
       " '\\n',\n",
       " '**BONDS DAMAGED OR BROKEN:** Describe how each relationship has deteriorated.\\n',\n",
       " '\\n',\n",
       " '**PERMANENT INJURIES:** Describe what they look like.\\n',\n",
       " '\\n',\n",
       " '**DISORDERS GAINED:** Did your Protagonist hit the Breaking Point during the adventure? Now’s the time for the Game Moderator to decide what disorder the Protagonist gains.\\n',\n",
       " '\\n',\n",
       " '**COMMUNITY:** If your Protagonist misused his or her contacts, authority, or resources from his or her home community, describe how actions during the adventure may have impacted your Protagonist’s reputation or standing. Does this impact any Community Bonds?\\n',\n",
       " '\\n',\n",
       " '**JUSTICE**: Did your Protagonist break the rules of the local community? Does that impact any Individual or Community Bonds?\\n',\n",
       " '\\n',\n",
       " '## Personal Pursuits\\n',\n",
       " '\\n',\n",
       " 'For the vignette, the player chooses one of the following pursuits. Describe how your Protagonist is pursuing it, and roll the appropriate stat, skill, or SAN test to resolve it.\\n',\n",
       " '\\n',\n",
       " 'Choose from these pursuits:\\n',\n",
       " '\\n',\n",
       " '### Fulfill Responsibilities to Individuals\\n',\n",
       " '\\n',\n",
       " 'If your Protagonist focuses on day-to-day obligations and relationships, describe something the Protagonist is doing to support an Individual Bond. Roll a SAN test. Success improves the Individual Bond by 1D6 (up to your Protagonist’s CHA); a critical success also adds 1 SAN (up to your **Recovery SAN**). Failure adds 1 to the Bond. A fumble means some disastrous conflict reduces the Individual Bond by 1D4 and your SAN by 1. Describe how the relationship has improved because of your Protagonist’s efforts or worsened despite them.\\n',\n",
       " '\\n',\n",
       " '### Reorganizing and Replenishing Personal Resources\\n',\n",
       " '\\n',\n",
       " 'As described in **Replenishing Resources, Removing Checkmarks** (page 23), if your Protagonist actively drew from his or her personal pool of Resources during an adventure, there will be check marks on the character sheet to record this. By investing some downtime (half a day or more) to reorganize or replenish your stash of resources, all such checks marks can be erased. Describe the lengths your Protagonist goes to tidy up or restock.\\n',\n",
       " '\\n',\n",
       " '### Gaining Favor of the Community at Large\\n',\n",
       " '\\n',\n",
       " 'Your Protagonist may choose to spend time attempting to improve his or her status within a group or society, as represented by a Community Bond he or she _**already has**_. This may involve influencing key individuals to build a support-base or working hard to solve the community’s problems and earn their respect.\\n',\n",
       " '\\n',\n",
       " 'A major investment of time warrants a SAN test – success means that your Protagonist’s actions have drawn the attention of key people in the community. A fumbled SAN roll means that some terrible error of judgement by your Protagonist creates a negative reaction: this reduces the bond value by -1D3 and causes a loss of 1 point of SAN.\\n',\n",
       " '\\n',\n",
       " 'If the SAN roll succeeded, there is a chance that the positive attention from the community may convert into an increase in status. Make a second D100 roll and compare it to current **Community Bond rating×5**. If the roll is _higher_ than the target, the Community Bond value improves:\\n',\n",
       " '\\n',\n",
       " '\\uf0b7 If the original SAN roll was a **normal success**: +1 to bond value\\n',\n",
       " '\\n',\n",
       " '\\uf0b7 If the original SAN roll was a **critical success**: +2 to bond value\\n',\n",
       " '\\n',\n",
       " 'The causes of the increase or decrease in status should be described, along with their impact.\\n',\n",
       " '\\n',\n",
       " '### Back to Nature\\n',\n",
       " '\\n',\n",
       " 'Your Protagonist can spend time in contemplative seclusion, minimizing stress, distractions, and obligations. This isn’t a holiday; it’s extended time alone, or mostly alone, in an environment that’s physically active but places few other demands on the Protagonist. This reduces one Bond (either Individual or Community) by 1 as you let other responsibilities lapse. Roll a SAN test. Success adds 1D4 SAN, or 4 for a critical (up to your **Recovery SAN**). Failure adds 1 SAN. A fumble costs 1D4 SAN. Describe the impact of this time alone.\\n',\n",
       " '\\n',\n",
       " '### Establish a New Individual Bond\\n',\n",
       " '\\n',\n",
       " 'Your Protagonist may attempt to create a new Individual Bond with a character. This is not done lightly. It means this new character is developing into an essential, important part of your Protagonist’s life. Attempt a **CHA×5** test. Success establishes a new Individual Bond with a score equal to half your Protagonist’s CHA (round up). Unfortunately, devoting so much attention to the new Bond reduces the value of one other Bond – either reduce an Individual Bond by 1D4 or a Community Bond by 1.\\n',\n",
       " '\\n',\n",
       " '### Establish a New Community Bond\\n',\n",
       " '\\n',\n",
       " 'Your Protagonist attempts to establish membership in a new community and assert some kind of status within its ‘pecking order’. You might do this because you have just arrived in a new place, or because you wish to take on a position of standing within a group (e.g., an elite order) that provides social benefits. Getting accepted to a position of trust within a community is not easy. Attempt a **CHA×5** test. Success establishes a new Community Bond with a score equal to **half** your Protagonist’s Permanent Resources rating (round up). Devoting energy to currying the favor needed to establish the new Bond reduces the value of one other Bond – either reduce an Individual Bond by 1D4 or a (different) Community Bond by 1.\\n',\n",
       " '\\n',\n",
       " '### Get Help With Mental Illnesses\\n',\n",
       " '\\n',\n",
       " 'Depending on where and when your game is set, Protagonists may have the option of accessing professional mental health services to try to overcome the ill-effects accrued through traumatic experiences. Prior to the mid-20th Century, such services were very primitive and arguably more damaging to sanity than curative. The GM will be the final arbiter as to whether reliable and high-quality psychotherapy services are available. However, even in settings where no such facilities exist there are still ways to get help in more old-fashioned ways.\\n',\n",
       " '\\n',\n",
       " '#### Therapy\\n',\n",
       " '\\n',\n",
       " 'If your Protagonist chooses to enlist a clinical therapist to deal with his or her psychological damage, he or she is committing to an ongoing process requiring honesty and commitment.\\n',\n",
       " '\\n',\n",
       " 'Your Protagonist must decide whether to truthfully tell the therapist what caused the SAN loss.\\n',\n",
       " '\\n',\n",
       " '\\uf0b7 If your Protagonist tells the truth, there are risks. If the SAN loss came from confronting the Cthulhu Mythos, your therapist might diagnose your Protagonist as suffering from schizophrenia. Alternatively, if the therapist _believes_ your Protagonist’s account, he or she may in turn lose SAN from the shocking details they reveal.\\n',\n",
       " '\\n',\n",
       " 'The outcomes of therapy are determined by a roll against the therapist’s **Psychoanalyze** skill. If your Protagonist described unnatural events and the therapist thinks they’re delusions, that skill is halved. If the roll fumbles, your Protagonist loses 1 SAN. If it succeeds, your Protagonist regains 1D6 SAN (or 6 with a critical success), up to his or her **Recovery SAN**.\\n',\n",
       " '\\n',\n",
       " 'If your Protagonist shares tales of terrible, illegal violence and it sounds like further violence is imminent, the therapist may report it to the authorities. Whether that happens is entirely up to the GM.\\n',\n",
       " '\\n',\n",
       " '\\uf0b7 If, on the other hand, your Protagonist _doesn’t_ tell the therapist the truth, healing is limited. Make a roll against the therapist’s **Psychoanalyze** skill. If it fumbles, your Protagonist loses 1 SAN. If it succeeds, your Protagonist regains 1D4 SAN (or 4 for a critical success), up to his or her **Recovery SAN**.\\n',\n",
       " '\\n',\n",
       " 'If your Protagonist suffers from a disorder, a critical success with the therapist’s roll cures it (whether your Protagonist told the truth or not). Your Protagonist also develops a Bond with the therapist equal to half your Protagonist’s CHA (or add 1D4 to it if your Protagonist already has that Bond, up to the Protagonist’s CHA). He or she also loses points from another bond of your choice (1D4 from one individual Bond or 1 from a Community Bond). Write a note saying “cured” next to the disorder on the character sheet — but do not erase it. The next time you gain a disorder, you must roll another SAN test. If that fails, the “cured” disorder returns in full force alongside the new one.\\n',\n",
       " '\\n',\n",
       " 'Regardless of whether the rolls result in improvements, the long hours spent with an empathetic person reduces one Bond (either Individual or Community) by 1 as you let other responsibilities lapse.\\n',\n",
       " '\\n',\n",
       " '#### Talking it Out\\n',\n",
       " '\\n',\n",
       " 'Even if no clinical psychotherapy is available to your Protagonist, there is still the time-honored method of healing a damaged mind through sharing one’s burden with an empathic person who one knows and trusts. This other person might be a spiritual adviser, a folk-psychiatrists, or just a kind-hearted fellow member of the community that is willing to reassure you.\\n',\n",
       " '\\n',\n",
       " 'Being helped through the process of recovering from mental trauma works in a similar way to therapy although takes a lot longer and has less certain outcomes. As with therapy there are risks to sharing detailed accounts of the events that caused the original SAN loss, both to the empathic person (who could take SAN from the account) and to the Protagonist (if the other individual alerts others).\\n',\n",
       " '\\n',\n",
       " '\\uf0b7 As with formal therapy, the effectiveness of folk remedies is determined through skill rolls against the **Psychoanalyze** skill (or an alternate skill substituted by the GM as fits the game’s setting). The difference is that for any benefit to be achieved, the empathic person must succeed in two consecutive rolls.\\n',\n",
       " '\\n',\n",
       " '\\uf0b7 If the Protagonist has not been truthful in relating their story, they can still gain some benefit: a pair of consecutive successful rolls will give them 1D2 SAN back (2 with a critical success), up to his or her POW × 5. If the Protagonist was truthful, the reward is 1D3 SAN (3 with a critical success), to the same maximum.\\n',\n",
       " '\\n',\n",
       " 'For a Protagonist to have a disorder cured through folk remedies, the empathic listener must get two consecutive critical successes on their rolls. If that occurs, it functions in the same way to a therapist making a critical success.\\n',\n",
       " '\\n',\n",
       " 'As with therapists, the hours spent with the empathic listener has the inevitable impact that one other bond (either Individual or Community) is reduced by 1 as you let responsibilities lapse. If the long conversations led to a disorder being cured, you will automatically develop or strengthen an Individual Bond with the empathic listener as noted above for successful therapy outcomes – but at the cost of another bond becoming weaker.\\n',\n",
       " '\\n',\n",
       " '### Improve a Skill or Stat\\n',\n",
       " '\\n',\n",
       " 'By training or studying extensively, your Protagonist can try to boost a stat or a skill. This reduces one Bond (either Individual or Community) by 1 as you let other responsibilities lapse.\\n',\n",
       " '\\n',\n",
       " 'Describe what your Protagonist is doing to improve the stat or skill: poring over crumbling textbooks for INT or a skill, lifting weights for STR, meditating to strengthen self-discipline for POW, socializing or taking leadership courses for CHA, undergoing medical rehabilitation to regain stat points permanently lost from an injury, etc.\\n',\n",
       " '\\n',\n",
       " 'If you wish to gain points in a skill you don’t already possess and which has a Base Chance of 0%, you can only do this if you are being trained by someone who has at least 20% in that skill. Under no circumstances can the Unnatural skill be improved through training.\\n',\n",
       " '\\n',\n",
       " 'Attempt a test of the stat × 5 or the skill. If the test fails, your Protagonist has improved. Add 3D6 percentage points to the skill (to a maximum of 99%) or one point to the stat (to a maximum of 18).\\n',\n",
       " '\\n',\n",
       " '### Personal Motivation\\n',\n",
       " '\\n',\n",
       " 'Your Protagonist indulges in the things that he or she finds meaningful. This reduces one Bond (either Individual or Community) by 1 as you let other responsibilities lapse. Roll a SAN test. Success adds 1 SAN, or 1D4 for a critical (up to your Protagonist’s **Recovery SAN**). A fumble costs 1 SAN.\\n',\n",
       " '\\n',\n",
       " '### Accounts of the Cthulhu Mythos / Learning Rituals\\n',\n",
       " '\\n',\n",
       " 'Your Protagonist may have unearthed records – e.g., ancient tomes, journals or even files in an electronic database – which claim to contain wisdom about the Cthulhu Mythos forces which haunt the world. He or she can devote time to trying to delve into such accounts or trying to learn the arcane rituals they describe. See **MADDENING Revelations** on page 82 for more on how such research is performed.']"
      ]
     },
     "execution_count": 6,
     "metadata": {},
     "output_type": "execute_result"
    }
   ],
   "source": [
    "f"
   ]
  },
  {
   "cell_type": "code",
   "execution_count": 7,
   "id": "988815d4-ed25-4356-b33e-d50b92c125e4",
   "metadata": {},
   "outputs": [
    {
     "name": "stdout",
     "output_type": "stream",
     "text": [
      "Match 0 was found at 10-13: 1 R\n"
     ]
    }
   ],
   "source": [
    "import re\n",
    "\n",
    "regex = r\"[0-9] [A-z]\"\n",
    "\n",
    "test_str = \"### **6.2.1 Ramming**\\n\"\n",
    "\n",
    "matches = re.finditer(regex, test_str, re.MULTILINE)\n",
    "\n",
    "for matchNum, match in enumerate(matches, start=0):\n",
    "    \n",
    "    print (\"Match {matchNum} was found at {start}-{end}: {match}\".format(matchNum = matchNum, start = match.start(), end = match.end(), match = match.group()))\n",
    "    \n",
    "    for groupNum in range(0, len(match.groups())):\n",
    "        groupNum = groupNum + 1\n",
    "        \n",
    "        print (\"Group {groupNum} found at {start}-{end}: {group}\".format(groupNum = groupNum, start = match.start(groupNum), end = match.end(groupNum), group = match.group(groupNum)))\n"
   ]
  },
  {
   "cell_type": "code",
   "execution_count": 8,
   "id": "227256b1-96db-45d0-a2e4-21caa8893489",
   "metadata": {},
   "outputs": [
    {
     "data": {
      "text/plain": [
       "'Ramming'"
      ]
     },
     "execution_count": 8,
     "metadata": {},
     "output_type": "execute_result"
    }
   ],
   "source": [
    "test_str[match.end()-1:].strip().strip(\"*\")"
   ]
  },
  {
   "cell_type": "code",
   "execution_count": 9,
   "id": "756728fe-6fdd-4d28-97c7-ff015da44c2f",
   "metadata": {},
   "outputs": [
    {
     "data": {
      "text/plain": [
       "1"
      ]
     },
     "execution_count": 9,
     "metadata": {},
     "output_type": "execute_result"
    }
   ],
   "source": [
    "test_str.count(\"R\")"
   ]
  },
  {
   "cell_type": "code",
   "execution_count": 17,
   "id": "55a289ed-3a42-420a-ac54-01af8f74199a",
   "metadata": {},
   "outputs": [],
   "source": [
    "def clean_line(line: str) -> str:\n",
    "    if line.startswith(\"#\"):\n",
    "        nr_header = line.count(\"#\")\n",
    "        \n",
    "        matches = list(re.finditer(regex, line, re.MULTILINE))\n",
    "        assert len(matches)<=1, f\"more than 1 match on line {line}\"\n",
    "        if matches:\n",
    "            match = matches[0]\n",
    "            line = \"#\"*nr_header + \" \" + line[match.end()-1:]\n",
    "        \n",
    "        line = line.replace(\"*\", \"\").replace(\"_\", \"\").replace(\"_\",\"\")\n",
    "    return line"
   ]
  },
  {
   "cell_type": "code",
   "execution_count": 18,
   "id": "a5f784ed-421b-4c5b-b79d-783a95c42341",
   "metadata": {},
   "outputs": [],
   "source": [
    "def clean_file_lines(f):\n",
    "    new_f = []\n",
    "    for l in f:\n",
    "        new_l = clean_line(l)\n",
    "        new_f.append(new_l)\n",
    "    return new_f"
   ]
  },
  {
   "cell_type": "code",
   "execution_count": 12,
   "id": "af85b879-c360-4622-ab61-5acd0f4fb3e0",
   "metadata": {},
   "outputs": [
    {
     "data": {
      "text/plain": [
       "['content/index.md',\n",
       " 'content/Part 1 - Rules of the Game.md',\n",
       " 'content/Part 1 Summary - Creating a Protagonist.md',\n",
       " 'content/Part 10 - Rituals.md',\n",
       " 'content/Part 11 - Creatures and NPCs.md',\n",
       " 'content/Part 12 - Cults.md',\n",
       " 'content/Part 13 - Artifacts.md',\n",
       " 'content/Part 14 - Tomes.md',\n",
       " 'content/Part 2 - Skills.md',\n",
       " 'content/Part 3 - The Game.md',\n",
       " 'content/Part 4 - Combat.md',\n",
       " 'content/Part 5 - Appendix - Equipment per Age.md',\n",
       " 'content/Part 5 - Equipment and Resources.md',\n",
       " 'content/Part 6 - Vehicles.md',\n",
       " 'content/Part 7 - Sanity.md',\n",
       " 'content/Part 8 - Downtime.md',\n",
       " 'content/Part 9 - Game Master Resources.md']"
      ]
     },
     "execution_count": 12,
     "metadata": {},
     "output_type": "execute_result"
    }
   ],
   "source": [
    "fs"
   ]
  },
  {
   "cell_type": "code",
   "execution_count": 19,
   "id": "366b93bd-f76e-4418-89ad-c76fb4f15e95",
   "metadata": {},
   "outputs": [],
   "source": [
    "for f_path in ['content/Part 1 - Rules of the Game.md']:\n",
    "    f_lines = open(f_path, \"r\").readlines()\n",
    "    new_f_lines = clean_file_lines(f_lines)\n",
    "    open(f_path, \"w\").writelines(new_f_lines)"
   ]
  },
  {
   "cell_type": "code",
   "execution_count": null,
   "id": "bd22e5f7-dace-436f-a1ca-5cce49cb847a",
   "metadata": {},
   "outputs": [],
   "source": []
  }
 ],
 "metadata": {
  "kernelspec": {
   "display_name": "Python 3 (ipykernel)",
   "language": "python",
   "name": "python3"
  },
  "language_info": {
   "codemirror_mode": {
    "name": "ipython",
    "version": 3
   },
   "file_extension": ".py",
   "mimetype": "text/x-python",
   "name": "python",
   "nbconvert_exporter": "python",
   "pygments_lexer": "ipython3",
   "version": "3.10.12"
  }
 },
 "nbformat": 4,
 "nbformat_minor": 5
}
